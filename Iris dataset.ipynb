{
 "cells": [
  {
   "cell_type": "markdown",
   "metadata": {},
   "source": [
    "**Reproduced from** \n",
    "https://www.kaggle.com/aceccon/2-iris-dataset-basic-classification-algorithms"
   ]
  },
  {
   "cell_type": "code",
   "execution_count": 1,
   "metadata": {
    "collapsed": true
   },
   "outputs": [],
   "source": [
    "import matplotlib.pyplot as plt\n",
    "from sklearn import datasets"
   ]
  },
  {
   "cell_type": "code",
   "execution_count": 2,
   "metadata": {
    "collapsed": false
   },
   "outputs": [],
   "source": [
    "iris = datasets.load_iris()"
   ]
  },
  {
   "cell_type": "code",
   "execution_count": 3,
   "metadata": {
    "collapsed": false
   },
   "outputs": [
    {
     "data": {
      "image/png": "[encoded data removed]",
      "text/plain": [
       "<matplotlib.figure.Figure at 0x1117bc668>"
      ]
     },
     "metadata": {},
     "output_type": "display_data"
    }
   ],
   "source": [
    "x = iris.data[:,:2]\n",
    "y = iris.target\n",
    "\n",
    "plt.scatter(x[:,0], x[:,1], c=y, cmap=plt.cm.Set2)\n",
    "plt.xlabel('Sepal length')\n",
    "plt.ylabel('Sepal width')\n",
    "plt.show()"
   ]
  },
  {
   "cell_type": "code",
   "execution_count": 4,
   "metadata": {
    "collapsed": true
   },
   "outputs": [],
   "source": [
    "# for machine learning part\n",
    "from sklearn.model_selection import train_test_split\n",
    "x_train, x_test, y_train, y_test = train_test_split(iris.data, iris.target, test_size=0.3, random_state=0)\n",
    "\n",
    "from sklearn.preprocessing import StandardScaler\n",
    "sc = StandardScaler()\n",
    "sc.fit(x_train)\n",
    "x_train_std = sc.transform(x_train)\n",
    "x_test_std = sc.transform(x_test)"
   ]
  },
  {
   "cell_type": "code",
   "execution_count": 5,
   "metadata": {
    "collapsed": false
   },
   "outputs": [
    {
     "name": "stdout",
     "output_type": "stream",
     "text": [
      "Traning score: 0.9714285714285714\n",
      "Testing score: 0.9777777777777777\n"
     ]
    }
   ],
   "source": [
    "# svm classification\n",
    "from sklearn.svm import SVC\n",
    "svm = SVC(kernel='rbf', random_state=0, gamma=.21, C=1.9)\n",
    "svm.fit(x_train_std, y_train)\n",
    "print('Traning score: {}'.format(svm.score(x_train_std, y_train)))\n",
    "print('Testing score: {}'.format(svm.score(x_test_std, y_test)))"
   ]
  },
  {
   "cell_type": "code",
   "execution_count": 6,
   "metadata": {
    "collapsed": false
   },
   "outputs": [
    {
     "name": "stdout",
     "output_type": "stream",
     "text": [
      "Traning score: 0.9619047619047619\n",
      "Testing score: 0.9777777777777777\n"
     ]
    }
   ],
   "source": [
    "# knn classification\n",
    "from sklearn.neighbors import KNeighborsClassifier\n",
    "\n",
    "knn = KNeighborsClassifier(n_neighbors=3, p = 1, metric='minkowski')\n",
    "knn.fit(x_train_std, y_train)\n",
    "\n",
    "print('Traning score: {}'.format(knn.score(x_train_std, y_train)))\n",
    "print('Testing score: {}'.format(knn.score(x_test_std, y_test)))"
   ]
  },
  {
   "cell_type": "code",
   "execution_count": 7,
   "metadata": {
    "collapsed": false
   },
   "outputs": [
    {
     "name": "stdout",
     "output_type": "stream",
     "text": [
      "Traning score: 1.0\n",
      "Testing score: 0.9777777777777777\n"
     ]
    },
    {
     "name": "stderr",
     "output_type": "stream",
     "text": [
      "/Library/Frameworks/Python.framework/Versions/3.6/lib/python3.6/site-packages/sklearn/preprocessing/label.py:151: DeprecationWarning: The truth value of an empty array is ambiguous. Returning False, but in future this will result in an error. Use `array.size > 0` to check that an array is not empty.\n",
      "  if diff:\n",
      "/Library/Frameworks/Python.framework/Versions/3.6/lib/python3.6/site-packages/sklearn/preprocessing/label.py:151: DeprecationWarning: The truth value of an empty array is ambiguous. Returning False, but in future this will result in an error. Use `array.size > 0` to check that an array is not empty.\n",
      "  if diff:\n"
     ]
    }
   ],
   "source": [
    "# Tree - XGboost\n",
    "import xgboost as xgb\n",
    "\n",
    "xgb_cls = xgb.XGBClassifier()\n",
    "xgb_cls.fit(x_train_std, y_train)\n",
    "\n",
    "\n",
    "print('Traning score: {}'.format(xgb_cls.score(x_train_std, y_train)))\n",
    "print('Testing score: {}'.format(xgb_cls.score(x_test_std, y_test)))"
   ]
  },
  {
   "cell_type": "code",
   "execution_count": 8,
   "metadata": {
    "collapsed": false
   },
   "outputs": [
    {
     "name": "stdout",
     "output_type": "stream",
     "text": [
      "Traning score: 1.0\n",
      "Testing score: 0.9777777777777777\n"
     ]
    }
   ],
   "source": [
    "# descision tree classification\n",
    "from sklearn import tree\n",
    "\n",
    "cls_tree = tree.DecisionTreeClassifier(criterion='gini')\n",
    "cls_tree.fit(x_train_std, y_train)\n",
    "\n",
    "print('Traning score: {}'.format(cls_tree.score(x_train_std, y_train)))\n",
    "print('Testing score: {}'.format(cls_tree.score(x_test_std, y_test)))"
   ]
  },
  {
   "cell_type": "code",
   "execution_count": 9,
   "metadata": {
    "collapsed": false
   },
   "outputs": [
    {
     "name": "stdout",
     "output_type": "stream",
     "text": [
      "Traning score: 0.9904761904761905\n",
      "Testing score: 0.9555555555555556\n"
     ]
    }
   ],
   "source": [
    "# Random forest classification\n",
    "from sklearn.ensemble import RandomForestClassifier\n",
    "\n",
    "rnd_forest = RandomForestClassifier()\n",
    "rnd_forest.fit(x_train_std, y_train)\n",
    "\n",
    "print('Traning score: {}'.format(rnd_forest.score(x_train_std, y_train)))\n",
    "print('Testing score: {}'.format(rnd_forest.score(x_test_std, y_test)))"
   ]
  },
  {
   "cell_type": "code",
   "execution_count": null,
   "metadata": {
    "collapsed": true
   },
   "outputs": [],
   "source": []
  }
 ],
 "metadata": {
  "kernelspec": {
   "display_name": "Python 3",
   "language": "python",
   "name": "python3"
  },
  "language_info": {
   "codemirror_mode": {
    "name": "ipython",
    "version": 3
   },
   "file_extension": ".py",
   "mimetype": "text/x-python",
   "name": "python",
   "nbconvert_exporter": "python",
   "pygments_lexer": "ipython3",
   "version": "3.6.0"
  }
 },
 "nbformat": 4,
 "nbformat_minor": 2
}
