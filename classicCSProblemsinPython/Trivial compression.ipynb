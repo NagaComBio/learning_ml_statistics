{
 "cells": [
  {
   "cell_type": "markdown",
   "metadata": {},
   "source": [
    "### Performing trivial compression\n",
    "#### Compressing DNA string\n",
    "\n",
    "I have modified the program by including `dict` instead of `if` loops, and also modified the to run  "
   ]
  },
  {
   "cell_type": "code",
   "execution_count": 1,
   "metadata": {},
   "outputs": [],
   "source": [
    "from typing import Dict\n",
    "\n",
    "class Compress:\n",
    "    \"\"\"\n",
    "    A compression class \n",
    "    \"\"\"\n",
    "    def __init__(self, string:str) -> None:\n",
    "        self._compress(string)\n",
    "    \n",
    "    def _compress(self, string):\n",
    "        \"\"\"\n",
    "        Method to compress DNA string to binary\n",
    "        \"\"\"\n",
    "        dna_to_binary: Dict[str, bytes] = {'A':0b00,\n",
    "                                         'G':0b01,\n",
    "                                         'T':0b10,\n",
    "                                         'C':0b11}\n",
    "        self.bit_string = 1\n",
    "        for nt in string:\n",
    "            self.bit_string <<= 2\n",
    "            if nt in dna_to_binary:\n",
    "                self.bit_string |= dna_to_binary[nt]\n",
    "            else:\n",
    "                raise TypeError('{} not a DNA base'.format(nt))\n",
    "    \n",
    "    def decompress(self) -> str:\n",
    "        \"\"\"\n",
    "        Method to decompress the binary to original DNA string\n",
    "        \"\"\"\n",
    "        binary_to_string: Dict[bytes, str] = {0b00: 'A',\n",
    "                                             0b01: 'G',\n",
    "                                             0b10: 'T',\n",
    "                                             0b11: 'C'}\n",
    "        dna_string: str = \"\"\n",
    "        for i in range(0, self.bit_string.bit_length()-1, 2):\n",
    "            bits: int = self.bit_string >> i & 0b11 # not sure what's with the 0b11 bit here\n",
    "            \n",
    "            if bits in binary_to_string:\n",
    "                dna_string += binary_to_string[bits]\n",
    "            else:\n",
    "                raise TypeError('{} not in bite base'.format(bits))\n",
    "            \n",
    "        return dna_string[::-1]\n",
    "        \n",
    "    def __str__(self) -> str:\n",
    "        return self.decompress()        "
   ]
  },
  {
   "cell_type": "markdown",
   "metadata": {},
   "source": [
    "Creating a new instance"
   ]
  },
  {
   "cell_type": "code",
   "execution_count": 2,
   "metadata": {},
   "outputs": [],
   "source": [
    "input_str = 'ACGTCGT'*100\n",
    "dna1 = Compress(input_str)"
   ]
  },
  {
   "cell_type": "code",
   "execution_count": 3,
   "metadata": {},
   "outputs": [
    {
     "name": "stdout",
     "output_type": "stream",
     "text": [
      "Size of the bit string: 212\n"
     ]
    }
   ],
   "source": [
    "from sys import getsizeof\n",
    "print('Size of the bit string: {}'.format(getsizeof(dna1.bit_string)))"
   ]
  },
  {
   "cell_type": "code",
   "execution_count": 4,
   "metadata": {},
   "outputs": [
    {
     "name": "stdout",
     "output_type": "stream",
     "text": [
      "Size of the orginal string: 749\n"
     ]
    }
   ],
   "source": [
    "print('Size of the orginal string: {}'.format(getsizeof(dna1.decompress())))"
   ]
  },
  {
   "cell_type": "code",
   "execution_count": 5,
   "metadata": {},
   "outputs": [
    {
     "name": "stdout",
     "output_type": "stream",
     "text": [
      "Is the decompressed equal to original string? True\n"
     ]
    }
   ],
   "source": [
    "print('Is the decompressed equal to original string? {}'.format(input_str == dna1.decompress()))"
   ]
  },
  {
   "cell_type": "markdown",
   "metadata": {},
   "source": [
    "Testing the `__str__` method"
   ]
  },
  {
   "cell_type": "code",
   "execution_count": 6,
   "metadata": {},
   "outputs": [
    {
     "name": "stdout",
     "output_type": "stream",
     "text": [
      "ACGTCGTACGTCGTACGTCGTACGTCGTACGTCGTACGTCGTACGTCGTACGTCGTACGTCGTACGTCGTACGTCGTACGTCGTACGTCGTACGTCGTACGTCGTACGTCGTACGTCGTACGTCGTACGTCGTACGTCGTACGTCGTACGTCGTACGTCGTACGTCGTACGTCGTACGTCGTACGTCGTACGTCGTACGTCGTACGTCGTACGTCGTACGTCGTACGTCGTACGTCGTACGTCGTACGTCGTACGTCGTACGTCGTACGTCGTACGTCGTACGTCGTACGTCGTACGTCGTACGTCGTACGTCGTACGTCGTACGTCGTACGTCGTACGTCGTACGTCGTACGTCGTACGTCGTACGTCGTACGTCGTACGTCGTACGTCGTACGTCGTACGTCGTACGTCGTACGTCGTACGTCGTACGTCGTACGTCGTACGTCGTACGTCGTACGTCGTACGTCGTACGTCGTACGTCGTACGTCGTACGTCGTACGTCGTACGTCGTACGTCGTACGTCGTACGTCGTACGTCGTACGTCGTACGTCGTACGTCGTACGTCGTACGTCGTACGTCGTACGTCGTACGTCGTACGTCGTACGTCGTACGTCGTACGTCGTACGTCGTACGTCGTACGTCGTACGTCGTACGTCGTACGTCGTACGTCGTACGTCGTACGTCGTACGTCGTACGTCGT\n"
     ]
    }
   ],
   "source": [
    "print(dna1)"
   ]
  }
 ],
 "metadata": {
  "kernelspec": {
   "display_name": "Python 3",
   "language": "python",
   "name": "python3"
  },
  "language_info": {
   "codemirror_mode": {
    "name": "ipython",
    "version": 3
   },
   "file_extension": ".py",
   "mimetype": "text/x-python",
   "name": "python",
   "nbconvert_exporter": "python",
   "pygments_lexer": "ipython3",
   "version": "3.6.1"
  }
 },
 "nbformat": 4,
 "nbformat_minor": 2
}
