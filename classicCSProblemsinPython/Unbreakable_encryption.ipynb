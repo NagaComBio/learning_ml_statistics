{
 "cells": [
  {
   "cell_type": "markdown",
   "metadata": {},
   "source": [
    "## Unbreakable encryption\n",
    "\n",
    "Using XOR binary operator. \n",
    "A refresher from [tutorialpoint](https://www.tutorialspoint.com/python/bitwise_operators_example.htm) is useful\n",
    "\n",
    "```python\n",
    "a = 60 # 60 = 0011 1100\n",
    "b = 13 # 13 = 0000 1101\n",
    "\n",
    "a & b  # 12 = 0000 1100\n",
    "a | b  # 61 = 0011 1101 \n",
    "a ^ b  # 49 = 0011 0001\n",
    "```"
   ]
  },
  {
   "cell_type": "code",
   "execution_count": 1,
   "metadata": {},
   "outputs": [],
   "source": [
    "from typing import Tuple\n",
    "from secrets import token_bytes\n",
    "\n",
    "def random_key(length: int) -> int:\n",
    "    \"\"\"\n",
    "    Generates the random byte using for input length\n",
    "    and converts them to an integer.\n",
    "    \"\"\"\n",
    "    random_byte: bytes = token_bytes(length)\n",
    "    key_int: int = int.from_bytes(random_byte, \"big\")\n",
    "    return key_int"
   ]
  },
  {
   "cell_type": "code",
   "execution_count": 2,
   "metadata": {},
   "outputs": [],
   "source": [
    "def encrypte(string:str) -> Tuple[int, int]:\n",
    "    \"\"\"\n",
    "   Converts input string to bytes and to an integer. \n",
    "   Combines the original integer with a dummy integer to generate an integer, that's an encrypted string.\n",
    "    \"\"\"\n",
    "    original_byte = string.encode()\n",
    "    original_key:int = int.from_bytes(original_byte, \"big\")\n",
    "    dummy_key:int = random_key(len(original_byte))\n",
    "    \n",
    "    encrypted_key = original_key ^ dummy_key\n",
    "    \n",
    "    return(encrypted_key, dummy_key)"
   ]
  },
  {
   "cell_type": "code",
   "execution_count": 3,
   "metadata": {},
   "outputs": [],
   "source": [
    "def decrypte(key1:int, key2:int) -> str:\n",
    "    \"\"\"\n",
    "     Combines encrypted key and dummy key to generate decrypted integer, \n",
    "     and converts the decrypted integer to bytes and decodes it to the original string.\n",
    "    \"\"\"\n",
    "    decrypted_key = key1 ^ key2\n",
    "    decrypted_byte: bytes = decrypted_key.to_bytes((decrypted_key.bit_length() + 7) // 8, \"big\") # not sure why +7 \n",
    "    \n",
    "    return(decrypted_byte.decode())"
   ]
  },
  {
   "cell_type": "code",
   "execution_count": 4,
   "metadata": {},
   "outputs": [
    {
     "data": {
      "text/plain": [
       "61080"
      ]
     },
     "execution_count": 4,
     "metadata": {},
     "output_type": "execute_result"
    }
   ],
   "source": [
    "# Testing random key function\n",
    "random_key(2)"
   ]
  },
  {
   "cell_type": "code",
   "execution_count": 5,
   "metadata": {},
   "outputs": [
    {
     "data": {
      "text/plain": [
       "(63525470900692796988076086222242553529,\n",
       " 95288462437363765868144453220200151512)"
      ]
     },
     "execution_count": 5,
     "metadata": {},
     "output_type": "execute_result"
    }
   ],
   "source": [
    "# Encrypting a string\n",
    "encrypted_keys = encrypte(\"hello, I am Naga\")\n",
    "# The encrypted key and random dummy key\n",
    "encrypted_keys"
   ]
  },
  {
   "cell_type": "code",
   "execution_count": 6,
   "metadata": {},
   "outputs": [
    {
     "data": {
      "text/plain": [
       "'hello, I am Naga'"
      ]
     },
     "execution_count": 6,
     "metadata": {},
     "output_type": "execute_result"
    }
   ],
   "source": [
    "# Decrypting keys to original string\n",
    "decrypte(encrypted_keys[0], encrypted_keys[1])"
   ]
  }
 ],
 "metadata": {
  "kernelspec": {
   "display_name": "Python 3",
   "language": "python",
   "name": "python3"
  },
  "language_info": {
   "codemirror_mode": {
    "name": "ipython",
    "version": 3
   },
   "file_extension": ".py",
   "mimetype": "text/x-python",
   "name": "python",
   "nbconvert_exporter": "python",
   "pygments_lexer": "ipython3",
   "version": "3.6.1"
  }
 },
 "nbformat": 4,
 "nbformat_minor": 2
}
