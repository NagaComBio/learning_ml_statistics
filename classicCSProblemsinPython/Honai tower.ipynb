{
 "cells": [
  {
   "cell_type": "markdown",
   "metadata": {},
   "source": [
    "## Solving Honai tower\n",
    "\n",
    "Through recrusive algorithm,\n",
    "\n",
    "1. Move top two pieces from A to B using C as temp\n",
    "2. Move last piece in A to C.\n",
    "3. Move two pieces in B on top of C.\n"
   ]
  },
  {
   "cell_type": "code",
   "execution_count": 1,
   "metadata": {},
   "outputs": [],
   "source": [
    "from typing import TypeVar, Generic, List\n",
    "\n",
    "T = TypeVar('T')\n",
    "\n",
    "class Stack(Generic[T]):\n",
    "    \"\"\"A class for the tower\"\"\"\n",
    "    def __init__(self) -> None:\n",
    "        self._container:List[T] = []\n",
    "    \n",
    "    def pop(self) -> T:\n",
    "        return self._container.pop()\n",
    "    \n",
    "    def push(self, element:T) -> None:\n",
    "        return self._container.append(element)\n",
    "    \n",
    "    def __repr__(self) -> str:\n",
    "        return repr(self._container)"
   ]
  },
  {
   "cell_type": "code",
   "execution_count": 2,
   "metadata": {},
   "outputs": [],
   "source": [
    "# To check how this recursive works, I have updated the code to print the status\n",
    "\n",
    "def honai(begin: Generic[T], end: Generic[T], temp: Generic[T], n):\n",
    "    print(begin, temp, end, n)\n",
    "    if n == 1:\n",
    "        end.push(begin.pop())\n",
    "    else:        \n",
    "        honai(begin, temp, end, n-1)\n",
    "        honai(begin, end, temp, 1)        \n",
    "        honai(temp, end, begin, n-1)"
   ]
  },
  {
   "cell_type": "code",
   "execution_count": 3,
   "metadata": {},
   "outputs": [
    {
     "name": "stdout",
     "output_type": "stream",
     "text": [
      "[1, 2, 3]\n"
     ]
    }
   ],
   "source": [
    "num_of_towers = 3\n",
    "towerA = Stack()\n",
    "towerB = Stack()\n",
    "towerC = Stack()\n",
    "\n",
    "for i in range(1, num_of_towers + 1):\n",
    "    towerA.push(i)\n",
    "\n",
    "print(towerA)"
   ]
  },
  {
   "cell_type": "code",
   "execution_count": 4,
   "metadata": {},
   "outputs": [
    {
     "name": "stdout",
     "output_type": "stream",
     "text": [
      "[1, 2, 3] [] [] 3\n",
      "[1, 2, 3] [] [] 2\n",
      "[1, 2, 3] [] [] 1\n",
      "[1, 2] [3] [] 1\n",
      "[3] [1] [2] 1\n",
      "[1] [2, 3] [] 1\n",
      "[2, 3] [] [1] 2\n",
      "[2, 3] [1] [] 1\n",
      "[2] [3] [1] 1\n",
      "[3] [] [1, 2] 1\n",
      "[] [] [1, 2, 3]\n"
     ]
    }
   ],
   "source": [
    "honai(towerA, towerC, towerB, num_of_towers)\n",
    "print(towerA, towerB, towerC)"
   ]
  }
 ],
 "metadata": {
  "kernelspec": {
   "display_name": "Python 3",
   "language": "python",
   "name": "python3"
  },
  "language_info": {
   "codemirror_mode": {
    "name": "ipython",
    "version": 3
   },
   "file_extension": ".py",
   "mimetype": "text/x-python",
   "name": "python",
   "nbconvert_exporter": "python",
   "pygments_lexer": "ipython3",
   "version": "3.6.1"
  }
 },
 "nbformat": 4,
 "nbformat_minor": 2
}
